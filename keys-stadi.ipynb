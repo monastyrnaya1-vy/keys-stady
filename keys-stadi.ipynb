{
 "cells": [
  {
   "cell_type": "markdown",
   "metadata": {},
   "source": [
    "Задание 1\n",
    "Вернемся к набору данных о видеоиграх.\n",
    "\n",
    "Ответьте на следующие вопросы:\n",
    "\n",
    "1) Как критики относятся к спортивным играм?\n",
    "2) Критикам нравятся больше игры на PC или на PS4?\n",
    "3) Критикам больше нравятся стрелялки или стратегии?\n",
    "\n",
    "Для каждого вопроса:\n",
    "\n",
    "сформулируйте нулевую и альтернативную гипотезы;\n",
    "выберите пороговый уровень статистической значимости;\n",
    "опишите полученные результаты статистического теста."
   ]
  },
  {
   "cell_type": "code",
   "execution_count": 1,
   "metadata": {},
   "outputs": [],
   "source": [
    "import pandas as pd"
   ]
  },
  {
   "cell_type": "code",
   "execution_count": 82,
   "metadata": {
    "scrolled": true
   },
   "outputs": [
    {
     "data": {
      "text/html": [
       "<div>\n",
       "<style scoped>\n",
       "    .dataframe tbody tr th:only-of-type {\n",
       "        vertical-align: middle;\n",
       "    }\n",
       "\n",
       "    .dataframe tbody tr th {\n",
       "        vertical-align: top;\n",
       "    }\n",
       "\n",
       "    .dataframe thead th {\n",
       "        text-align: right;\n",
       "    }\n",
       "</style>\n",
       "<table border=\"1\" class=\"dataframe\">\n",
       "  <thead>\n",
       "    <tr style=\"text-align: right;\">\n",
       "      <th></th>\n",
       "      <th>Rank</th>\n",
       "      <th>Name</th>\n",
       "      <th>basename</th>\n",
       "      <th>Genre</th>\n",
       "      <th>ESRB_Rating</th>\n",
       "      <th>Platform</th>\n",
       "      <th>Publisher</th>\n",
       "      <th>Developer</th>\n",
       "      <th>VGChartz_Score</th>\n",
       "      <th>Critic_Score</th>\n",
       "      <th>...</th>\n",
       "      <th>NA_Sales</th>\n",
       "      <th>PAL_Sales</th>\n",
       "      <th>JP_Sales</th>\n",
       "      <th>Other_Sales</th>\n",
       "      <th>Year</th>\n",
       "      <th>Last_Update</th>\n",
       "      <th>url</th>\n",
       "      <th>status</th>\n",
       "      <th>Vgchartzscore</th>\n",
       "      <th>img_url</th>\n",
       "    </tr>\n",
       "  </thead>\n",
       "  <tbody>\n",
       "    <tr>\n",
       "      <td>0</td>\n",
       "      <td>1</td>\n",
       "      <td>Wii Sports</td>\n",
       "      <td>wii-sports</td>\n",
       "      <td>Sports</td>\n",
       "      <td>E</td>\n",
       "      <td>Wii</td>\n",
       "      <td>Nintendo</td>\n",
       "      <td>Nintendo EAD</td>\n",
       "      <td>NaN</td>\n",
       "      <td>7.7</td>\n",
       "      <td>...</td>\n",
       "      <td>NaN</td>\n",
       "      <td>NaN</td>\n",
       "      <td>NaN</td>\n",
       "      <td>NaN</td>\n",
       "      <td>2006.0</td>\n",
       "      <td>NaN</td>\n",
       "      <td>http://www.vgchartz.com/game/2667/wii-sports/?...</td>\n",
       "      <td>1</td>\n",
       "      <td>NaN</td>\n",
       "      <td>/games/boxart/full_2258645AmericaFrontccc.jpg</td>\n",
       "    </tr>\n",
       "    <tr>\n",
       "      <td>1</td>\n",
       "      <td>2</td>\n",
       "      <td>Super Mario Bros.</td>\n",
       "      <td>super-mario-bros</td>\n",
       "      <td>Platform</td>\n",
       "      <td>NaN</td>\n",
       "      <td>NES</td>\n",
       "      <td>Nintendo</td>\n",
       "      <td>Nintendo EAD</td>\n",
       "      <td>NaN</td>\n",
       "      <td>10.0</td>\n",
       "      <td>...</td>\n",
       "      <td>NaN</td>\n",
       "      <td>NaN</td>\n",
       "      <td>NaN</td>\n",
       "      <td>NaN</td>\n",
       "      <td>1985.0</td>\n",
       "      <td>NaN</td>\n",
       "      <td>http://www.vgchartz.com/game/6455/super-mario-...</td>\n",
       "      <td>1</td>\n",
       "      <td>NaN</td>\n",
       "      <td>/games/boxart/8972270ccc.jpg</td>\n",
       "    </tr>\n",
       "    <tr>\n",
       "      <td>2</td>\n",
       "      <td>3</td>\n",
       "      <td>Mario Kart Wii</td>\n",
       "      <td>mario-kart-wii</td>\n",
       "      <td>Racing</td>\n",
       "      <td>E</td>\n",
       "      <td>Wii</td>\n",
       "      <td>Nintendo</td>\n",
       "      <td>Nintendo EAD</td>\n",
       "      <td>NaN</td>\n",
       "      <td>8.2</td>\n",
       "      <td>...</td>\n",
       "      <td>NaN</td>\n",
       "      <td>NaN</td>\n",
       "      <td>NaN</td>\n",
       "      <td>NaN</td>\n",
       "      <td>2008.0</td>\n",
       "      <td>11th Apr 18</td>\n",
       "      <td>http://www.vgchartz.com/game/6968/mario-kart-w...</td>\n",
       "      <td>1</td>\n",
       "      <td>8.7</td>\n",
       "      <td>/games/boxart/full_8932480AmericaFrontccc.jpg</td>\n",
       "    </tr>\n",
       "    <tr>\n",
       "      <td>3</td>\n",
       "      <td>4</td>\n",
       "      <td>PlayerUnknown's Battlegrounds</td>\n",
       "      <td>playerunknowns-battlegrounds</td>\n",
       "      <td>Shooter</td>\n",
       "      <td>NaN</td>\n",
       "      <td>PC</td>\n",
       "      <td>PUBG Corporation</td>\n",
       "      <td>PUBG Corporation</td>\n",
       "      <td>NaN</td>\n",
       "      <td>NaN</td>\n",
       "      <td>...</td>\n",
       "      <td>NaN</td>\n",
       "      <td>NaN</td>\n",
       "      <td>NaN</td>\n",
       "      <td>NaN</td>\n",
       "      <td>2017.0</td>\n",
       "      <td>13th Nov 18</td>\n",
       "      <td>http://www.vgchartz.com/game/215988/playerunkn...</td>\n",
       "      <td>1</td>\n",
       "      <td>NaN</td>\n",
       "      <td>/games/boxart/full_8052843AmericaFrontccc.jpg</td>\n",
       "    </tr>\n",
       "    <tr>\n",
       "      <td>4</td>\n",
       "      <td>5</td>\n",
       "      <td>Wii Sports Resort</td>\n",
       "      <td>wii-sports-resort</td>\n",
       "      <td>Sports</td>\n",
       "      <td>E</td>\n",
       "      <td>Wii</td>\n",
       "      <td>Nintendo</td>\n",
       "      <td>Nintendo EAD</td>\n",
       "      <td>NaN</td>\n",
       "      <td>8.0</td>\n",
       "      <td>...</td>\n",
       "      <td>NaN</td>\n",
       "      <td>NaN</td>\n",
       "      <td>NaN</td>\n",
       "      <td>NaN</td>\n",
       "      <td>2009.0</td>\n",
       "      <td>NaN</td>\n",
       "      <td>http://www.vgchartz.com/game/24656/wii-sports-...</td>\n",
       "      <td>1</td>\n",
       "      <td>8.8</td>\n",
       "      <td>/games/boxart/full_7295041AmericaFrontccc.jpg</td>\n",
       "    </tr>\n",
       "    <tr>\n",
       "      <td>...</td>\n",
       "      <td>...</td>\n",
       "      <td>...</td>\n",
       "      <td>...</td>\n",
       "      <td>...</td>\n",
       "      <td>...</td>\n",
       "      <td>...</td>\n",
       "      <td>...</td>\n",
       "      <td>...</td>\n",
       "      <td>...</td>\n",
       "      <td>...</td>\n",
       "      <td>...</td>\n",
       "      <td>...</td>\n",
       "      <td>...</td>\n",
       "      <td>...</td>\n",
       "      <td>...</td>\n",
       "      <td>...</td>\n",
       "      <td>...</td>\n",
       "      <td>...</td>\n",
       "      <td>...</td>\n",
       "      <td>...</td>\n",
       "      <td>...</td>\n",
       "    </tr>\n",
       "    <tr>\n",
       "      <td>55787</td>\n",
       "      <td>55788</td>\n",
       "      <td>Indivisible</td>\n",
       "      <td>indivisible</td>\n",
       "      <td>Role-Playing</td>\n",
       "      <td>NaN</td>\n",
       "      <td>PC</td>\n",
       "      <td>505 Games</td>\n",
       "      <td>Lab Zero Games</td>\n",
       "      <td>NaN</td>\n",
       "      <td>NaN</td>\n",
       "      <td>...</td>\n",
       "      <td>NaN</td>\n",
       "      <td>NaN</td>\n",
       "      <td>NaN</td>\n",
       "      <td>NaN</td>\n",
       "      <td>2019.0</td>\n",
       "      <td>11th Apr 19</td>\n",
       "      <td>http://www.vgchartz.com/game/224682/indivisibl...</td>\n",
       "      <td>1</td>\n",
       "      <td>NaN</td>\n",
       "      <td>/games/boxart/full_6339426AmericaFrontccc.jpg</td>\n",
       "    </tr>\n",
       "    <tr>\n",
       "      <td>55788</td>\n",
       "      <td>55789</td>\n",
       "      <td>Lost Ember</td>\n",
       "      <td>lost-amber</td>\n",
       "      <td>Adventure</td>\n",
       "      <td>RP</td>\n",
       "      <td>PC</td>\n",
       "      <td>Mooneye Studios</td>\n",
       "      <td>Mooneye Studios</td>\n",
       "      <td>NaN</td>\n",
       "      <td>NaN</td>\n",
       "      <td>...</td>\n",
       "      <td>NaN</td>\n",
       "      <td>NaN</td>\n",
       "      <td>NaN</td>\n",
       "      <td>NaN</td>\n",
       "      <td>2019.0</td>\n",
       "      <td>11th Apr 19</td>\n",
       "      <td>http://www.vgchartz.com/games/game.php?id=2246...</td>\n",
       "      <td>1</td>\n",
       "      <td>NaN</td>\n",
       "      <td>/games/boxart/full_8893129AmericaFrontccc.jpg</td>\n",
       "    </tr>\n",
       "    <tr>\n",
       "      <td>55789</td>\n",
       "      <td>55790</td>\n",
       "      <td>Lost Ember</td>\n",
       "      <td>lost-amber</td>\n",
       "      <td>Adventure</td>\n",
       "      <td>RP</td>\n",
       "      <td>PS4</td>\n",
       "      <td>Mooneye Studios</td>\n",
       "      <td>Mooneye Studios</td>\n",
       "      <td>NaN</td>\n",
       "      <td>NaN</td>\n",
       "      <td>...</td>\n",
       "      <td>NaN</td>\n",
       "      <td>NaN</td>\n",
       "      <td>NaN</td>\n",
       "      <td>NaN</td>\n",
       "      <td>2019.0</td>\n",
       "      <td>11th Apr 19</td>\n",
       "      <td>http://www.vgchartz.com/game/224690/lost-ember...</td>\n",
       "      <td>1</td>\n",
       "      <td>NaN</td>\n",
       "      <td>/games/boxart/full_6514293AmericaFrontccc.jpg</td>\n",
       "    </tr>\n",
       "    <tr>\n",
       "      <td>55790</td>\n",
       "      <td>55791</td>\n",
       "      <td>Lost Ember</td>\n",
       "      <td>lost-amber</td>\n",
       "      <td>Adventure</td>\n",
       "      <td>RP</td>\n",
       "      <td>XOne</td>\n",
       "      <td>Mooneye Studios</td>\n",
       "      <td>Mooneye Studios</td>\n",
       "      <td>NaN</td>\n",
       "      <td>NaN</td>\n",
       "      <td>...</td>\n",
       "      <td>NaN</td>\n",
       "      <td>NaN</td>\n",
       "      <td>NaN</td>\n",
       "      <td>NaN</td>\n",
       "      <td>2019.0</td>\n",
       "      <td>11th Apr 19</td>\n",
       "      <td>http://www.vgchartz.com/game/224688/lost-ember...</td>\n",
       "      <td>1</td>\n",
       "      <td>NaN</td>\n",
       "      <td>/games/boxart/full_6799693AmericaFrontccc.jpg</td>\n",
       "    </tr>\n",
       "    <tr>\n",
       "      <td>55791</td>\n",
       "      <td>55792</td>\n",
       "      <td>Falcon Age</td>\n",
       "      <td>falcon-age</td>\n",
       "      <td>Action-Adventure</td>\n",
       "      <td>NaN</td>\n",
       "      <td>PS4</td>\n",
       "      <td>Unknown</td>\n",
       "      <td>Outerloop Games</td>\n",
       "      <td>NaN</td>\n",
       "      <td>NaN</td>\n",
       "      <td>...</td>\n",
       "      <td>NaN</td>\n",
       "      <td>NaN</td>\n",
       "      <td>NaN</td>\n",
       "      <td>NaN</td>\n",
       "      <td>NaN</td>\n",
       "      <td>12th Apr 19</td>\n",
       "      <td>http://www.vgchartz.com/game/224692/falcon-age...</td>\n",
       "      <td>1</td>\n",
       "      <td>NaN</td>\n",
       "      <td>/games/boxart/default.jpg</td>\n",
       "    </tr>\n",
       "  </tbody>\n",
       "</table>\n",
       "<p>55792 rows × 23 columns</p>\n",
       "</div>"
      ],
      "text/plain": [
       "        Rank                           Name                      basename  \\\n",
       "0          1                     Wii Sports                    wii-sports   \n",
       "1          2              Super Mario Bros.              super-mario-bros   \n",
       "2          3                 Mario Kart Wii                mario-kart-wii   \n",
       "3          4  PlayerUnknown's Battlegrounds  playerunknowns-battlegrounds   \n",
       "4          5              Wii Sports Resort             wii-sports-resort   \n",
       "...      ...                            ...                           ...   \n",
       "55787  55788                    Indivisible                   indivisible   \n",
       "55788  55789                     Lost Ember                    lost-amber   \n",
       "55789  55790                     Lost Ember                    lost-amber   \n",
       "55790  55791                     Lost Ember                    lost-amber   \n",
       "55791  55792                     Falcon Age                    falcon-age   \n",
       "\n",
       "                  Genre ESRB_Rating Platform         Publisher  \\\n",
       "0                Sports           E      Wii          Nintendo   \n",
       "1              Platform         NaN      NES          Nintendo   \n",
       "2                Racing           E      Wii          Nintendo   \n",
       "3               Shooter         NaN       PC  PUBG Corporation   \n",
       "4                Sports           E      Wii          Nintendo   \n",
       "...                 ...         ...      ...               ...   \n",
       "55787      Role-Playing         NaN       PC         505 Games   \n",
       "55788         Adventure          RP       PC   Mooneye Studios   \n",
       "55789         Adventure          RP      PS4   Mooneye Studios   \n",
       "55790         Adventure          RP     XOne   Mooneye Studios   \n",
       "55791  Action-Adventure         NaN      PS4           Unknown   \n",
       "\n",
       "              Developer  VGChartz_Score  Critic_Score  ...  NA_Sales  \\\n",
       "0          Nintendo EAD             NaN           7.7  ...       NaN   \n",
       "1          Nintendo EAD             NaN          10.0  ...       NaN   \n",
       "2          Nintendo EAD             NaN           8.2  ...       NaN   \n",
       "3      PUBG Corporation             NaN           NaN  ...       NaN   \n",
       "4          Nintendo EAD             NaN           8.0  ...       NaN   \n",
       "...                 ...             ...           ...  ...       ...   \n",
       "55787    Lab Zero Games             NaN           NaN  ...       NaN   \n",
       "55788   Mooneye Studios             NaN           NaN  ...       NaN   \n",
       "55789   Mooneye Studios             NaN           NaN  ...       NaN   \n",
       "55790   Mooneye Studios             NaN           NaN  ...       NaN   \n",
       "55791   Outerloop Games             NaN           NaN  ...       NaN   \n",
       "\n",
       "       PAL_Sales  JP_Sales  Other_Sales    Year  Last_Update  \\\n",
       "0            NaN       NaN          NaN  2006.0          NaN   \n",
       "1            NaN       NaN          NaN  1985.0          NaN   \n",
       "2            NaN       NaN          NaN  2008.0  11th Apr 18   \n",
       "3            NaN       NaN          NaN  2017.0  13th Nov 18   \n",
       "4            NaN       NaN          NaN  2009.0          NaN   \n",
       "...          ...       ...          ...     ...          ...   \n",
       "55787        NaN       NaN          NaN  2019.0  11th Apr 19   \n",
       "55788        NaN       NaN          NaN  2019.0  11th Apr 19   \n",
       "55789        NaN       NaN          NaN  2019.0  11th Apr 19   \n",
       "55790        NaN       NaN          NaN  2019.0  11th Apr 19   \n",
       "55791        NaN       NaN          NaN     NaN  12th Apr 19   \n",
       "\n",
       "                                                     url  status  \\\n",
       "0      http://www.vgchartz.com/game/2667/wii-sports/?...       1   \n",
       "1      http://www.vgchartz.com/game/6455/super-mario-...       1   \n",
       "2      http://www.vgchartz.com/game/6968/mario-kart-w...       1   \n",
       "3      http://www.vgchartz.com/game/215988/playerunkn...       1   \n",
       "4      http://www.vgchartz.com/game/24656/wii-sports-...       1   \n",
       "...                                                  ...     ...   \n",
       "55787  http://www.vgchartz.com/game/224682/indivisibl...       1   \n",
       "55788  http://www.vgchartz.com/games/game.php?id=2246...       1   \n",
       "55789  http://www.vgchartz.com/game/224690/lost-ember...       1   \n",
       "55790  http://www.vgchartz.com/game/224688/lost-ember...       1   \n",
       "55791  http://www.vgchartz.com/game/224692/falcon-age...       1   \n",
       "\n",
       "      Vgchartzscore                                        img_url  \n",
       "0               NaN  /games/boxart/full_2258645AmericaFrontccc.jpg  \n",
       "1               NaN                   /games/boxart/8972270ccc.jpg  \n",
       "2               8.7  /games/boxart/full_8932480AmericaFrontccc.jpg  \n",
       "3               NaN  /games/boxart/full_8052843AmericaFrontccc.jpg  \n",
       "4               8.8  /games/boxart/full_7295041AmericaFrontccc.jpg  \n",
       "...             ...                                            ...  \n",
       "55787           NaN  /games/boxart/full_6339426AmericaFrontccc.jpg  \n",
       "55788           NaN  /games/boxart/full_8893129AmericaFrontccc.jpg  \n",
       "55789           NaN  /games/boxart/full_6514293AmericaFrontccc.jpg  \n",
       "55790           NaN  /games/boxart/full_6799693AmericaFrontccc.jpg  \n",
       "55791           NaN                      /games/boxart/default.jpg  \n",
       "\n",
       "[55792 rows x 23 columns]"
      ]
     },
     "execution_count": 82,
     "metadata": {},
     "output_type": "execute_result"
    }
   ],
   "source": [
    "df = pd.read_csv('video_games_sales.csv')\n",
    "df"
   ]
  },
  {
   "cell_type": "code",
   "execution_count": 93,
   "metadata": {},
   "outputs": [
    {
     "data": {
      "text/plain": [
       "Misc                9476\n",
       "Action              7667\n",
       "Adventure           5293\n",
       "Sports              5244\n",
       "Shooter             4586\n",
       "Role-Playing        4551\n",
       "Platform            3445\n",
       "Strategy            3266\n",
       "Puzzle              3162\n",
       "Racing              3030\n",
       "Simulation          2737\n",
       "Fighting            2085\n",
       "Action-Adventure     609\n",
       "Visual Novel         260\n",
       "Music                195\n",
       "Party                 75\n",
       "MMO                   74\n",
       "Board Game            16\n",
       "Education             12\n",
       "Sandbox                9\n",
       "Name: Genre, dtype: int64"
      ]
     },
     "execution_count": 93,
     "metadata": {},
     "output_type": "execute_result"
    }
   ],
   "source": [
    "df['Genre'].value_counts()"
   ]
  },
  {
   "cell_type": "code",
   "execution_count": 43,
   "metadata": {},
   "outputs": [
    {
     "data": {
      "text/html": [
       "<div>\n",
       "<style scoped>\n",
       "    .dataframe tbody tr th:only-of-type {\n",
       "        vertical-align: middle;\n",
       "    }\n",
       "\n",
       "    .dataframe tbody tr th {\n",
       "        vertical-align: top;\n",
       "    }\n",
       "\n",
       "    .dataframe thead th {\n",
       "        text-align: right;\n",
       "    }\n",
       "</style>\n",
       "<table border=\"1\" class=\"dataframe\">\n",
       "  <thead>\n",
       "    <tr style=\"text-align: right;\">\n",
       "      <th></th>\n",
       "      <th>Rank</th>\n",
       "      <th>VGChartz_Score</th>\n",
       "      <th>Critic_Score</th>\n",
       "      <th>User_Score</th>\n",
       "      <th>Total_Shipped</th>\n",
       "      <th>Global_Sales</th>\n",
       "      <th>NA_Sales</th>\n",
       "      <th>PAL_Sales</th>\n",
       "      <th>JP_Sales</th>\n",
       "      <th>Other_Sales</th>\n",
       "      <th>Year</th>\n",
       "      <th>status</th>\n",
       "      <th>Vgchartzscore</th>\n",
       "    </tr>\n",
       "  </thead>\n",
       "  <tbody>\n",
       "    <tr>\n",
       "      <td>count</td>\n",
       "      <td>55792.000000</td>\n",
       "      <td>0.0</td>\n",
       "      <td>6536.000000</td>\n",
       "      <td>335.000000</td>\n",
       "      <td>1827.000000</td>\n",
       "      <td>19415.000000</td>\n",
       "      <td>12964.000000</td>\n",
       "      <td>13189.000000</td>\n",
       "      <td>7043.000000</td>\n",
       "      <td>15522.000000</td>\n",
       "      <td>54813.000000</td>\n",
       "      <td>55792.0</td>\n",
       "      <td>799.000000</td>\n",
       "    </tr>\n",
       "    <tr>\n",
       "      <td>mean</td>\n",
       "      <td>27896.500000</td>\n",
       "      <td>NaN</td>\n",
       "      <td>7.213709</td>\n",
       "      <td>8.253433</td>\n",
       "      <td>1.887258</td>\n",
       "      <td>0.365503</td>\n",
       "      <td>0.275541</td>\n",
       "      <td>0.155263</td>\n",
       "      <td>0.110402</td>\n",
       "      <td>0.044719</td>\n",
       "      <td>2005.659095</td>\n",
       "      <td>1.0</td>\n",
       "      <td>7.425907</td>\n",
       "    </tr>\n",
       "    <tr>\n",
       "      <td>std</td>\n",
       "      <td>16105.907446</td>\n",
       "      <td>NaN</td>\n",
       "      <td>1.454079</td>\n",
       "      <td>1.401489</td>\n",
       "      <td>4.195693</td>\n",
       "      <td>0.833022</td>\n",
       "      <td>0.512809</td>\n",
       "      <td>0.399257</td>\n",
       "      <td>0.184673</td>\n",
       "      <td>0.129554</td>\n",
       "      <td>8.355585</td>\n",
       "      <td>0.0</td>\n",
       "      <td>1.384226</td>\n",
       "    </tr>\n",
       "    <tr>\n",
       "      <td>min</td>\n",
       "      <td>1.000000</td>\n",
       "      <td>NaN</td>\n",
       "      <td>1.000000</td>\n",
       "      <td>2.000000</td>\n",
       "      <td>0.030000</td>\n",
       "      <td>0.000000</td>\n",
       "      <td>0.000000</td>\n",
       "      <td>0.000000</td>\n",
       "      <td>0.000000</td>\n",
       "      <td>0.000000</td>\n",
       "      <td>1970.000000</td>\n",
       "      <td>1.0</td>\n",
       "      <td>2.600000</td>\n",
       "    </tr>\n",
       "    <tr>\n",
       "      <td>25%</td>\n",
       "      <td>13948.750000</td>\n",
       "      <td>NaN</td>\n",
       "      <td>6.400000</td>\n",
       "      <td>7.800000</td>\n",
       "      <td>0.200000</td>\n",
       "      <td>0.030000</td>\n",
       "      <td>0.050000</td>\n",
       "      <td>0.010000</td>\n",
       "      <td>0.020000</td>\n",
       "      <td>0.000000</td>\n",
       "      <td>2000.000000</td>\n",
       "      <td>1.0</td>\n",
       "      <td>6.800000</td>\n",
       "    </tr>\n",
       "    <tr>\n",
       "      <td>50%</td>\n",
       "      <td>27896.500000</td>\n",
       "      <td>NaN</td>\n",
       "      <td>7.500000</td>\n",
       "      <td>8.500000</td>\n",
       "      <td>0.590000</td>\n",
       "      <td>0.120000</td>\n",
       "      <td>0.120000</td>\n",
       "      <td>0.040000</td>\n",
       "      <td>0.050000</td>\n",
       "      <td>0.010000</td>\n",
       "      <td>2008.000000</td>\n",
       "      <td>1.0</td>\n",
       "      <td>7.800000</td>\n",
       "    </tr>\n",
       "    <tr>\n",
       "      <td>75%</td>\n",
       "      <td>41844.250000</td>\n",
       "      <td>NaN</td>\n",
       "      <td>8.300000</td>\n",
       "      <td>9.100000</td>\n",
       "      <td>1.800000</td>\n",
       "      <td>0.360000</td>\n",
       "      <td>0.290000</td>\n",
       "      <td>0.140000</td>\n",
       "      <td>0.120000</td>\n",
       "      <td>0.040000</td>\n",
       "      <td>2011.000000</td>\n",
       "      <td>1.0</td>\n",
       "      <td>8.500000</td>\n",
       "    </tr>\n",
       "    <tr>\n",
       "      <td>max</td>\n",
       "      <td>55792.000000</td>\n",
       "      <td>NaN</td>\n",
       "      <td>10.000000</td>\n",
       "      <td>10.000000</td>\n",
       "      <td>82.860000</td>\n",
       "      <td>20.320000</td>\n",
       "      <td>9.760000</td>\n",
       "      <td>9.850000</td>\n",
       "      <td>2.690000</td>\n",
       "      <td>3.120000</td>\n",
       "      <td>2020.000000</td>\n",
       "      <td>1.0</td>\n",
       "      <td>9.600000</td>\n",
       "    </tr>\n",
       "  </tbody>\n",
       "</table>\n",
       "</div>"
      ],
      "text/plain": [
       "               Rank  VGChartz_Score  Critic_Score  User_Score  Total_Shipped  \\\n",
       "count  55792.000000             0.0   6536.000000  335.000000    1827.000000   \n",
       "mean   27896.500000             NaN      7.213709    8.253433       1.887258   \n",
       "std    16105.907446             NaN      1.454079    1.401489       4.195693   \n",
       "min        1.000000             NaN      1.000000    2.000000       0.030000   \n",
       "25%    13948.750000             NaN      6.400000    7.800000       0.200000   \n",
       "50%    27896.500000             NaN      7.500000    8.500000       0.590000   \n",
       "75%    41844.250000             NaN      8.300000    9.100000       1.800000   \n",
       "max    55792.000000             NaN     10.000000   10.000000      82.860000   \n",
       "\n",
       "       Global_Sales      NA_Sales     PAL_Sales     JP_Sales   Other_Sales  \\\n",
       "count  19415.000000  12964.000000  13189.000000  7043.000000  15522.000000   \n",
       "mean       0.365503      0.275541      0.155263     0.110402      0.044719   \n",
       "std        0.833022      0.512809      0.399257     0.184673      0.129554   \n",
       "min        0.000000      0.000000      0.000000     0.000000      0.000000   \n",
       "25%        0.030000      0.050000      0.010000     0.020000      0.000000   \n",
       "50%        0.120000      0.120000      0.040000     0.050000      0.010000   \n",
       "75%        0.360000      0.290000      0.140000     0.120000      0.040000   \n",
       "max       20.320000      9.760000      9.850000     2.690000      3.120000   \n",
       "\n",
       "               Year   status  Vgchartzscore  \n",
       "count  54813.000000  55792.0     799.000000  \n",
       "mean    2005.659095      1.0       7.425907  \n",
       "std        8.355585      0.0       1.384226  \n",
       "min     1970.000000      1.0       2.600000  \n",
       "25%     2000.000000      1.0       6.800000  \n",
       "50%     2008.000000      1.0       7.800000  \n",
       "75%     2011.000000      1.0       8.500000  \n",
       "max     2020.000000      1.0       9.600000  "
      ]
     },
     "execution_count": 43,
     "metadata": {},
     "output_type": "execute_result"
    }
   ],
   "source": [
    "df.describe()"
   ]
  },
  {
   "cell_type": "code",
   "execution_count": 54,
   "metadata": {},
   "outputs": [
    {
     "data": {
      "text/plain": [
       "<matplotlib.axes._subplots.AxesSubplot at 0x25124772948>"
      ]
     },
     "execution_count": 54,
     "metadata": {},
     "output_type": "execute_result"
    },
    {
     "data": {
      "image/png": "[encoded data removed]",
      "text/plain": [
       "<Figure size 432x288 with 1 Axes>"
      ]
     },
     "metadata": {
      "needs_background": "light"
     },
     "output_type": "display_data"
    }
   ],
   "source": [
    "df['Critic_Score'].hist()"
   ]
  },
  {
   "cell_type": "code",
   "execution_count": 28,
   "metadata": {},
   "outputs": [
    {
     "data": {
      "text/plain": [
       "(55792, 23)"
      ]
     },
     "execution_count": 28,
     "metadata": {},
     "output_type": "execute_result"
    }
   ],
   "source": [
    "df.shape #df.info()"
   ]
  },
  {
   "cell_type": "code",
   "execution_count": 27,
   "metadata": {},
   "outputs": [
    {
     "data": {
      "text/plain": [
       "Rank                  0\n",
       "Name                  0\n",
       "basename              0\n",
       "Genre                 0\n",
       "ESRB_Rating       32169\n",
       "Platform              0\n",
       "Publisher             0\n",
       "Developer            17\n",
       "VGChartz_Score    55792\n",
       "Critic_Score      49256\n",
       "User_Score        55457\n",
       "Total_Shipped     53965\n",
       "Global_Sales      36377\n",
       "NA_Sales          42828\n",
       "PAL_Sales         42603\n",
       "JP_Sales          48749\n",
       "Other_Sales       40270\n",
       "Year                979\n",
       "Last_Update       46606\n",
       "url                   0\n",
       "status                0\n",
       "Vgchartzscore     54993\n",
       "img_url               0\n",
       "dtype: int64"
      ]
     },
     "execution_count": 27,
     "metadata": {},
     "output_type": "execute_result"
    }
   ],
   "source": [
    "df.isna().sum()"
   ]
  },
  {
   "cell_type": "code",
   "execution_count": 83,
   "metadata": {},
   "outputs": [
    {
     "data": {
      "text/plain": [
       "count    6536.000000\n",
       "mean        7.213709\n",
       "std         1.454079\n",
       "min         1.000000\n",
       "25%         6.400000\n",
       "50%         7.500000\n",
       "75%         8.300000\n",
       "max        10.000000\n",
       "Name: Critic_Score, dtype: float64"
      ]
     },
     "execution_count": 83,
     "metadata": {},
     "output_type": "execute_result"
    }
   ],
   "source": [
    "df_rating = df['Critic_Score'].dropna()\n",
    "df_rating.describe()\n",
    "# удаление nan не повлияло на describe в столбце 'Critic_Score'"
   ]
  },
  {
   "cell_type": "code",
   "execution_count": 55,
   "metadata": {},
   "outputs": [
    {
     "data": {
      "text/plain": [
       "<matplotlib.axes._subplots.AxesSubplot at 0x251272f4488>"
      ]
     },
     "execution_count": 55,
     "metadata": {},
     "output_type": "execute_result"
    },
    {
     "data": {
      "image/png": "[encoded data removed]",
      "text/plain": [
       "<Figure size 432x288 with 1 Axes>"
      ]
     },
     "metadata": {
      "needs_background": "light"
     },
     "output_type": "display_data"
    }
   ],
   "source": [
    "df_rating.hist()"
   ]
  },
  {
   "cell_type": "code",
   "execution_count": null,
   "metadata": {},
   "outputs": [],
   "source": [
    "#1) Как критики относятся к спортивным играм?\n",
    "# H0 - относятся одинаково\n",
    "# H1 - относятся по-разному"
   ]
  },
  {
   "cell_type": "code",
   "execution_count": 84,
   "metadata": {},
   "outputs": [
    {
     "data": {
      "text/html": [
       "<div>\n",
       "<style scoped>\n",
       "    .dataframe tbody tr th:only-of-type {\n",
       "        vertical-align: middle;\n",
       "    }\n",
       "\n",
       "    .dataframe tbody tr th {\n",
       "        vertical-align: top;\n",
       "    }\n",
       "\n",
       "    .dataframe thead th {\n",
       "        text-align: right;\n",
       "    }\n",
       "</style>\n",
       "<table border=\"1\" class=\"dataframe\">\n",
       "  <thead>\n",
       "    <tr style=\"text-align: right;\">\n",
       "      <th></th>\n",
       "      <th>Rank</th>\n",
       "      <th>VGChartz_Score</th>\n",
       "      <th>Critic_Score</th>\n",
       "      <th>User_Score</th>\n",
       "      <th>Total_Shipped</th>\n",
       "      <th>Global_Sales</th>\n",
       "      <th>NA_Sales</th>\n",
       "      <th>PAL_Sales</th>\n",
       "      <th>JP_Sales</th>\n",
       "      <th>Other_Sales</th>\n",
       "      <th>Year</th>\n",
       "      <th>status</th>\n",
       "      <th>Vgchartzscore</th>\n",
       "    </tr>\n",
       "  </thead>\n",
       "  <tbody>\n",
       "    <tr>\n",
       "      <td>count</td>\n",
       "      <td>5244.000000</td>\n",
       "      <td>0.0</td>\n",
       "      <td>688.000000</td>\n",
       "      <td>8.000000</td>\n",
       "      <td>54.000000</td>\n",
       "      <td>2618.000000</td>\n",
       "      <td>1985.000000</td>\n",
       "      <td>1900.000000</td>\n",
       "      <td>668.000000</td>\n",
       "      <td>2311.000000</td>\n",
       "      <td>5211.000000</td>\n",
       "      <td>5244.0</td>\n",
       "      <td>40.000000</td>\n",
       "    </tr>\n",
       "    <tr>\n",
       "      <td>mean</td>\n",
       "      <td>23421.281846</td>\n",
       "      <td>NaN</td>\n",
       "      <td>7.291424</td>\n",
       "      <td>7.887500</td>\n",
       "      <td>4.368519</td>\n",
       "      <td>0.469137</td>\n",
       "      <td>0.316358</td>\n",
       "      <td>0.186379</td>\n",
       "      <td>0.169925</td>\n",
       "      <td>0.057109</td>\n",
       "      <td>2003.431203</td>\n",
       "      <td>1.0</td>\n",
       "      <td>7.242500</td>\n",
       "    </tr>\n",
       "    <tr>\n",
       "      <td>std</td>\n",
       "      <td>16440.105518</td>\n",
       "      <td>NaN</td>\n",
       "      <td>1.470802</td>\n",
       "      <td>1.384029</td>\n",
       "      <td>12.324239</td>\n",
       "      <td>0.830963</td>\n",
       "      <td>0.463262</td>\n",
       "      <td>0.519356</td>\n",
       "      <td>0.264154</td>\n",
       "      <td>0.160490</td>\n",
       "      <td>7.734139</td>\n",
       "      <td>0.0</td>\n",
       "      <td>1.590337</td>\n",
       "    </tr>\n",
       "    <tr>\n",
       "      <td>min</td>\n",
       "      <td>1.000000</td>\n",
       "      <td>NaN</td>\n",
       "      <td>1.400000</td>\n",
       "      <td>4.900000</td>\n",
       "      <td>0.080000</td>\n",
       "      <td>0.000000</td>\n",
       "      <td>0.000000</td>\n",
       "      <td>0.000000</td>\n",
       "      <td>0.000000</td>\n",
       "      <td>0.000000</td>\n",
       "      <td>1970.000000</td>\n",
       "      <td>1.0</td>\n",
       "      <td>2.600000</td>\n",
       "    </tr>\n",
       "    <tr>\n",
       "      <td>25%</td>\n",
       "      <td>8525.250000</td>\n",
       "      <td>NaN</td>\n",
       "      <td>6.500000</td>\n",
       "      <td>7.500000</td>\n",
       "      <td>0.842500</td>\n",
       "      <td>0.070000</td>\n",
       "      <td>0.070000</td>\n",
       "      <td>0.010000</td>\n",
       "      <td>0.030000</td>\n",
       "      <td>0.000000</td>\n",
       "      <td>1998.000000</td>\n",
       "      <td>1.0</td>\n",
       "      <td>6.950000</td>\n",
       "    </tr>\n",
       "    <tr>\n",
       "      <td>50%</td>\n",
       "      <td>20633.000000</td>\n",
       "      <td>NaN</td>\n",
       "      <td>7.600000</td>\n",
       "      <td>8.250000</td>\n",
       "      <td>1.610000</td>\n",
       "      <td>0.200000</td>\n",
       "      <td>0.150000</td>\n",
       "      <td>0.050000</td>\n",
       "      <td>0.090000</td>\n",
       "      <td>0.010000</td>\n",
       "      <td>2004.000000</td>\n",
       "      <td>1.0</td>\n",
       "      <td>7.650000</td>\n",
       "    </tr>\n",
       "    <tr>\n",
       "      <td>75%</td>\n",
       "      <td>39020.250000</td>\n",
       "      <td>NaN</td>\n",
       "      <td>8.300000</td>\n",
       "      <td>8.850000</td>\n",
       "      <td>2.307500</td>\n",
       "      <td>0.510000</td>\n",
       "      <td>0.360000</td>\n",
       "      <td>0.160000</td>\n",
       "      <td>0.200000</td>\n",
       "      <td>0.050000</td>\n",
       "      <td>2009.000000</td>\n",
       "      <td>1.0</td>\n",
       "      <td>8.500000</td>\n",
       "    </tr>\n",
       "    <tr>\n",
       "      <td>max</td>\n",
       "      <td>55720.000000</td>\n",
       "      <td>NaN</td>\n",
       "      <td>9.700000</td>\n",
       "      <td>9.100000</td>\n",
       "      <td>82.860000</td>\n",
       "      <td>11.800000</td>\n",
       "      <td>4.260000</td>\n",
       "      <td>8.640000</td>\n",
       "      <td>2.130000</td>\n",
       "      <td>2.930000</td>\n",
       "      <td>2020.000000</td>\n",
       "      <td>1.0</td>\n",
       "      <td>9.000000</td>\n",
       "    </tr>\n",
       "  </tbody>\n",
       "</table>\n",
       "</div>"
      ],
      "text/plain": [
       "               Rank  VGChartz_Score  Critic_Score  User_Score  Total_Shipped  \\\n",
       "count   5244.000000             0.0    688.000000    8.000000      54.000000   \n",
       "mean   23421.281846             NaN      7.291424    7.887500       4.368519   \n",
       "std    16440.105518             NaN      1.470802    1.384029      12.324239   \n",
       "min        1.000000             NaN      1.400000    4.900000       0.080000   \n",
       "25%     8525.250000             NaN      6.500000    7.500000       0.842500   \n",
       "50%    20633.000000             NaN      7.600000    8.250000       1.610000   \n",
       "75%    39020.250000             NaN      8.300000    8.850000       2.307500   \n",
       "max    55720.000000             NaN      9.700000    9.100000      82.860000   \n",
       "\n",
       "       Global_Sales     NA_Sales    PAL_Sales    JP_Sales  Other_Sales  \\\n",
       "count   2618.000000  1985.000000  1900.000000  668.000000  2311.000000   \n",
       "mean       0.469137     0.316358     0.186379    0.169925     0.057109   \n",
       "std        0.830963     0.463262     0.519356    0.264154     0.160490   \n",
       "min        0.000000     0.000000     0.000000    0.000000     0.000000   \n",
       "25%        0.070000     0.070000     0.010000    0.030000     0.000000   \n",
       "50%        0.200000     0.150000     0.050000    0.090000     0.010000   \n",
       "75%        0.510000     0.360000     0.160000    0.200000     0.050000   \n",
       "max       11.800000     4.260000     8.640000    2.130000     2.930000   \n",
       "\n",
       "              Year  status  Vgchartzscore  \n",
       "count  5211.000000  5244.0      40.000000  \n",
       "mean   2003.431203     1.0       7.242500  \n",
       "std       7.734139     0.0       1.590337  \n",
       "min    1970.000000     1.0       2.600000  \n",
       "25%    1998.000000     1.0       6.950000  \n",
       "50%    2004.000000     1.0       7.650000  \n",
       "75%    2009.000000     1.0       8.500000  \n",
       "max    2020.000000     1.0       9.000000  "
      ]
     },
     "execution_count": 84,
     "metadata": {},
     "output_type": "execute_result"
    }
   ],
   "source": [
    "df_s = df.loc[(df['Genre'] == 'Sports')]\n",
    "df_s.describe()"
   ]
  },
  {
   "cell_type": "code",
   "execution_count": 57,
   "metadata": {},
   "outputs": [
    {
     "data": {
      "text/plain": [
       "<matplotlib.axes._subplots.AxesSubplot at 0x2512740be08>"
      ]
     },
     "execution_count": 57,
     "metadata": {},
     "output_type": "execute_result"
    },
    {
     "data": {
      "image/png": "[encoded data removed]",
      "text/plain": [
       "<Figure size 432x288 with 1 Axes>"
      ]
     },
     "metadata": {
      "needs_background": "light"
     },
     "output_type": "display_data"
    }
   ],
   "source": [
    "df_s['Critic_Score'].hist()"
   ]
  },
  {
   "cell_type": "code",
   "execution_count": 32,
   "metadata": {},
   "outputs": [
    {
     "data": {
      "text/plain": [
       "(5244, 23)"
      ]
     },
     "execution_count": 32,
     "metadata": {},
     "output_type": "execute_result"
    }
   ],
   "source": [
    "df_s.shape #isna().sum()"
   ]
  },
  {
   "cell_type": "code",
   "execution_count": 85,
   "metadata": {},
   "outputs": [
    {
     "data": {
      "text/plain": [
       "count    688.000000\n",
       "mean       7.291424\n",
       "std        1.470802\n",
       "min        1.400000\n",
       "25%        6.500000\n",
       "50%        7.600000\n",
       "75%        8.300000\n",
       "max        9.700000\n",
       "Name: Critic_Score, dtype: float64"
      ]
     },
     "execution_count": 85,
     "metadata": {},
     "output_type": "execute_result"
    }
   ],
   "source": [
    "df_sport = df_s['Critic_Score'].dropna()\n",
    "df_sport.describe()\n",
    "# удаление nan также не повлияло на describe в столбце 'Critic_Score'"
   ]
  },
  {
   "cell_type": "code",
   "execution_count": 56,
   "metadata": {},
   "outputs": [
    {
     "data": {
      "text/plain": [
       "<matplotlib.axes._subplots.AxesSubplot at 0x2512736db88>"
      ]
     },
     "execution_count": 56,
     "metadata": {},
     "output_type": "execute_result"
    },
    {
     "data": {
      "image/png": "[encoded data removed]",
      "text/plain": [
       "<Figure size 432x288 with 1 Axes>"
      ]
     },
     "metadata": {
      "needs_background": "light"
     },
     "output_type": "display_data"
    }
   ],
   "source": [
    "df_sport.hist()"
   ]
  },
  {
   "cell_type": "code",
   "execution_count": 86,
   "metadata": {},
   "outputs": [
    {
     "data": {
      "text/plain": [
       "Ttest_1sampResult(statistic=1.385953985922894, pvalue=0.16621064929327967)"
      ]
     },
     "execution_count": 86,
     "metadata": {},
     "output_type": "execute_result"
    }
   ],
   "source": [
    "import scipy.stats as st\n",
    "st.ttest_1samp(popmean = df_rating.mean(),   a= df_sport)\n",
    "# Принимаем Н0, т.к. p_value > 0.05, значит оценки критиков по жанру \"Спорт\" статистически не отличаются от генеральной совокупности"
   ]
  },
  {
   "cell_type": "markdown",
   "metadata": {},
   "source": [
    "2) Критикам нравятся больше игры на PC или на PS4?\n",
    "H0 = Критикам нравятся одинаково игры на PC и PS4\n",
    "H1 = Предпочтения критиков различаются\n"
   ]
  },
  {
   "cell_type": "code",
   "execution_count": 79,
   "metadata": {},
   "outputs": [],
   "source": [
    "pc = df.loc[(df['Platform'] == 'PC')]\n",
    "PC = pc['Critic_Score'].dropna()"
   ]
  },
  {
   "cell_type": "code",
   "execution_count": 80,
   "metadata": {},
   "outputs": [],
   "source": [
    "ps4 = df.loc[(df['Platform'] == 'PS4')]\n",
    "PS4 = ps4['Critic_Score'].dropna()"
   ]
  },
  {
   "cell_type": "code",
   "execution_count": 90,
   "metadata": {},
   "outputs": [
    {
     "name": "stdout",
     "output_type": "stream",
     "text": [
      "Ttest_indResult(statistic=-2.7394476056351627, pvalue=0.006931808250254211)\n",
      "Отвергаем нулевую гипотезу, критики по разному относятся к PC и PS4\n"
     ]
    }
   ],
   "source": [
    "result = st.ttest_ind(PC, PS4, equal_var=False)\n",
    "print(result)\n",
    "alpha = 0.05\n",
    "if (result.pvalue < alpha):\n",
    "    print('Отвергаем нулевую гипотезу, критики по разному относятся к PC и PS4')\n",
    "else:\n",
    "    print('Не отвергаем нулевую гипотезу')"
   ]
  },
  {
   "cell_type": "code",
   "execution_count": 91,
   "metadata": {},
   "outputs": [
    {
     "data": {
      "text/plain": [
       "7.541849710982658"
      ]
     },
     "execution_count": 91,
     "metadata": {},
     "output_type": "execute_result"
    }
   ],
   "source": [
    "PC.mean()"
   ]
  },
  {
   "cell_type": "code",
   "execution_count": 92,
   "metadata": {},
   "outputs": [
    {
     "data": {
      "text/plain": [
       "7.904587155963299"
      ]
     },
     "execution_count": 92,
     "metadata": {},
     "output_type": "execute_result"
    }
   ],
   "source": [
    "PS4.mean()  #По средней оценке видно, что PS4 нравится больше"
   ]
  },
  {
   "cell_type": "markdown",
   "metadata": {},
   "source": [
    "3) Критикам больше нравятся стрелялки или стратегии?\n",
    "H0 = Критикам нравятся одинаково игры \n",
    "H1 = Предпочтения критиков различаются"
   ]
  },
  {
   "cell_type": "code",
   "execution_count": 97,
   "metadata": {},
   "outputs": [],
   "source": [
    "df_sh = df.loc[(df['Genre'] == 'Shooter')]\n",
    "df_shoot = df_sh['Critic_Score'].dropna()"
   ]
  },
  {
   "cell_type": "code",
   "execution_count": 98,
   "metadata": {},
   "outputs": [],
   "source": [
    "df_st = df.loc[(df['Genre'] == 'Strategy')]\n",
    "df_strategy = df_st['Critic_Score'].dropna()"
   ]
  },
  {
   "cell_type": "code",
   "execution_count": 99,
   "metadata": {},
   "outputs": [
    {
     "name": "stdout",
     "output_type": "stream",
     "text": [
      "Ttest_indResult(statistic=-1.6073949711166526, pvalue=0.10838786414223071)\n",
      "Не отвергаем нулевую гипотезу\n"
     ]
    }
   ],
   "source": [
    "result = st.ttest_ind(df_shoot, df_strategy, equal_var=False)\n",
    "print(result)\n",
    "alpha = 0.05\n",
    "if (result.pvalue < alpha):\n",
    "    print('Отвергаем нулевую гипотезу, критики по разному относятся к PC и PS4')\n",
    "else:\n",
    "    print('Не отвергаем нулевую гипотезу')"
   ]
  },
  {
   "cell_type": "code",
   "execution_count": 100,
   "metadata": {},
   "outputs": [
    {
     "data": {
      "text/plain": [
       "7.2868327402135264"
      ]
     },
     "execution_count": 100,
     "metadata": {},
     "output_type": "execute_result"
    }
   ],
   "source": [
    "df_shoot.mean()"
   ]
  },
  {
   "cell_type": "code",
   "execution_count": 101,
   "metadata": {},
   "outputs": [
    {
     "data": {
      "text/plain": [
       "7.429268292682925"
      ]
     },
     "execution_count": 101,
     "metadata": {},
     "output_type": "execute_result"
    }
   ],
   "source": [
    "df_strategy.mean()"
   ]
  },
  {
   "cell_type": "markdown",
   "metadata": {},
   "source": [
    "Задание 2\n",
    "Реализуйте базовую модель логистической регрессии для классификации текстовых сообщений (используемые данные здесь) по признаку спама. Для этого:\n",
    "\n",
    "1) Привидите весь текст к нижнему регистру;\n",
    "2) Удалите мусорные символы;\n",
    "3) Удалите стоп-слова;\n",
    "4) Привидите все слова к нормальной форме;\n",
    "5) Преобразуйте все сообщения в вектора TF-IDF. Вам поможет следующий код:\n",
    "\n",
    "from sklearn.feature_extraction.text import TfidfVectorizer\n",
    "\n",
    "tfidf = TfidfVectorizer()\n",
    "tfidf_matrix = tfidf.fit_transform(df.Message)\n",
    "names = tfidf.get_feature_names()\n",
    "tfidf_matrix = pd.DataFrame(tfidf_matrix.toarray(), columns=names)\n",
    "Можете поэкспериментировать с параметрами TfidfVectorizer;\n",
    "6) Разделите данные на тестовые и тренировочные в соотношении 30/70, укажите random_state=42. Используйте train_test_split;\n",
    "7) Постройте модель логистической регрессии, укажите random_state=42, оцените ее точность на тестовых данных;\n",
    "8) Опишите результаты при помощи confusion_matrix;\n",
    "9) Постройте датафрейм, который будет содержать все исходные тексты сообщений, классифицированные неправильно (с указанием фактического и предсказанного)."
   ]
  },
  {
   "cell_type": "code",
   "execution_count": 1,
   "metadata": {},
   "outputs": [],
   "source": [
    "import glob\n",
    "import pandas as pd\n",
    "import re"
   ]
  },
  {
   "cell_type": "code",
   "execution_count": 122,
   "metadata": {},
   "outputs": [
    {
     "data": {
      "text/html": [
       "<div>\n",
       "<style scoped>\n",
       "    .dataframe tbody tr th:only-of-type {\n",
       "        vertical-align: middle;\n",
       "    }\n",
       "\n",
       "    .dataframe tbody tr th {\n",
       "        vertical-align: top;\n",
       "    }\n",
       "\n",
       "    .dataframe thead th {\n",
       "        text-align: right;\n",
       "    }\n",
       "</style>\n",
       "<table border=\"1\" class=\"dataframe\">\n",
       "  <thead>\n",
       "    <tr style=\"text-align: right;\">\n",
       "      <th></th>\n",
       "      <th>Category</th>\n",
       "      <th>Message</th>\n",
       "    </tr>\n",
       "  </thead>\n",
       "  <tbody>\n",
       "    <tr>\n",
       "      <td>0</td>\n",
       "      <td>ham</td>\n",
       "      <td>Go until jurong point, crazy.. Available only ...</td>\n",
       "    </tr>\n",
       "    <tr>\n",
       "      <td>1</td>\n",
       "      <td>ham</td>\n",
       "      <td>Ok lar... Joking wif u oni...</td>\n",
       "    </tr>\n",
       "    <tr>\n",
       "      <td>2</td>\n",
       "      <td>spam</td>\n",
       "      <td>Free entry in 2 a wkly comp to win FA Cup fina...</td>\n",
       "    </tr>\n",
       "    <tr>\n",
       "      <td>3</td>\n",
       "      <td>ham</td>\n",
       "      <td>U dun say so early hor... U c already then say...</td>\n",
       "    </tr>\n",
       "    <tr>\n",
       "      <td>4</td>\n",
       "      <td>ham</td>\n",
       "      <td>Nah I don't think he goes to usf, he lives aro...</td>\n",
       "    </tr>\n",
       "    <tr>\n",
       "      <td>...</td>\n",
       "      <td>...</td>\n",
       "      <td>...</td>\n",
       "    </tr>\n",
       "    <tr>\n",
       "      <td>5567</td>\n",
       "      <td>spam</td>\n",
       "      <td>This is the 2nd time we have tried 2 contact u...</td>\n",
       "    </tr>\n",
       "    <tr>\n",
       "      <td>5568</td>\n",
       "      <td>ham</td>\n",
       "      <td>Will ü b going to esplanade fr home?</td>\n",
       "    </tr>\n",
       "    <tr>\n",
       "      <td>5569</td>\n",
       "      <td>ham</td>\n",
       "      <td>Pity, * was in mood for that. So...any other s...</td>\n",
       "    </tr>\n",
       "    <tr>\n",
       "      <td>5570</td>\n",
       "      <td>ham</td>\n",
       "      <td>The guy did some bitching but I acted like i'd...</td>\n",
       "    </tr>\n",
       "    <tr>\n",
       "      <td>5571</td>\n",
       "      <td>ham</td>\n",
       "      <td>Rofl. Its true to its name</td>\n",
       "    </tr>\n",
       "  </tbody>\n",
       "</table>\n",
       "<p>5572 rows × 2 columns</p>\n",
       "</div>"
      ],
      "text/plain": [
       "     Category                                            Message\n",
       "0         ham  Go until jurong point, crazy.. Available only ...\n",
       "1         ham                      Ok lar... Joking wif u oni...\n",
       "2        spam  Free entry in 2 a wkly comp to win FA Cup fina...\n",
       "3         ham  U dun say so early hor... U c already then say...\n",
       "4         ham  Nah I don't think he goes to usf, he lives aro...\n",
       "...       ...                                                ...\n",
       "5567     spam  This is the 2nd time we have tried 2 contact u...\n",
       "5568      ham               Will ü b going to esplanade fr home?\n",
       "5569      ham  Pity, * was in mood for that. So...any other s...\n",
       "5570      ham  The guy did some bitching but I acted like i'd...\n",
       "5571      ham                         Rofl. Its true to its name\n",
       "\n",
       "[5572 rows x 2 columns]"
      ]
     },
     "execution_count": 122,
     "metadata": {},
     "output_type": "execute_result"
    }
   ],
   "source": [
    "spam = pd.read_csv('spam.csv')\n",
    "spam"
   ]
  },
  {
   "cell_type": "code",
   "execution_count": 41,
   "metadata": {},
   "outputs": [
    {
     "data": {
      "text/plain": [
       "Category    0\n",
       "Message     0\n",
       "dtype: int64"
      ]
     },
     "execution_count": 41,
     "metadata": {},
     "output_type": "execute_result"
    }
   ],
   "source": [
    "spam.isna().sum()"
   ]
  },
  {
   "cell_type": "code",
   "execution_count": 123,
   "metadata": {},
   "outputs": [
    {
     "data": {
      "text/plain": [
       "0       go until jurong point, crazy.. available only ...\n",
       "1                           ok lar... joking wif u oni...\n",
       "2       free entry in 2 a wkly comp to win fa cup fina...\n",
       "3       u dun say so early hor... u c already then say...\n",
       "4       nah i don't think he goes to usf, he lives aro...\n",
       "                              ...                        \n",
       "5567    this is the 2nd time we have tried 2 contact u...\n",
       "5568                 will ü b going to esplanade fr home?\n",
       "5569    pity, * was in mood for that. so...any other s...\n",
       "5570    the guy did some bitching but i acted like i'd...\n",
       "5571                           rofl. its true to its name\n",
       "Name: Message, Length: 5572, dtype: object"
      ]
     },
     "execution_count": 123,
     "metadata": {},
     "output_type": "execute_result"
    }
   ],
   "source": [
    "spam.Message = [word.lower() for word in spam.Message]\n",
    "spam.Message"
   ]
  },
  {
   "cell_type": "code",
   "execution_count": 124,
   "metadata": {},
   "outputs": [
    {
     "data": {
      "text/plain": [
       "0       go until jurong point crazy available only in ...\n",
       "1                                ok lar joking wif u oni \n",
       "2       free entry in 2 a wkly comp to win fa cup fina...\n",
       "3            u dun say so early hor u c already then say \n",
       "4       nah i don t think he goes to usf he lives arou...\n",
       "                              ...                        \n",
       "5567    this is the 2nd time we have tried 2 contact u...\n",
       "5568                 will ü b going to esplanade fr home \n",
       "5569    pity was in mood for that so any other suggest...\n",
       "5570    the guy did some bitching but i acted like i d...\n",
       "5571                            rofl its true to its name\n",
       "Name: Message, Length: 5572, dtype: object"
      ]
     },
     "execution_count": 124,
     "metadata": {},
     "output_type": "execute_result"
    }
   ],
   "source": [
    "spam.Message = [re.sub('[\\W_]+',' ', word) for word in spam.Message]\n",
    "spam.Message"
   ]
  },
  {
   "cell_type": "code",
   "execution_count": 125,
   "metadata": {},
   "outputs": [
    {
     "data": {
      "text/plain": [
       "0       [go, until, jurong, point, crazy, available, o...\n",
       "1                          [ok, lar, joking, wif, u, oni]\n",
       "2       [free, entry, in, 2, a, wkly, comp, to, win, f...\n",
       "3       [u, dun, say, so, early, hor, u, c, already, t...\n",
       "4       [nah, i, don, t, think, he, goes, to, usf, he,...\n",
       "                              ...                        \n",
       "5567    [this, is, the, 2nd, time, we, have, tried, 2,...\n",
       "5568         [will, ü, b, going, to, esplanade, fr, home]\n",
       "5569    [pity, was, in, mood, for, that, so, any, othe...\n",
       "5570    [the, guy, did, some, bitching, but, i, acted,...\n",
       "5571                     [rofl, its, true, to, its, name]\n",
       "Name: Message, Length: 5572, dtype: object"
      ]
     },
     "execution_count": 125,
     "metadata": {},
     "output_type": "execute_result"
    }
   ],
   "source": [
    "spam.Message = [word.split() for word in spam.Message]\n",
    "spam.Message"
   ]
  },
  {
   "cell_type": "code",
   "execution_count": 8,
   "metadata": {},
   "outputs": [
    {
     "name": "stdout",
     "output_type": "stream",
     "text": [
      "showing info https://raw.githubusercontent.com/nltk/nltk_data/gh-pages/index.xml\n"
     ]
    },
    {
     "data": {
      "text/plain": [
       "True"
      ]
     },
     "execution_count": 8,
     "metadata": {},
     "output_type": "execute_result"
    }
   ],
   "source": [
    "import nltk\n",
    "nltk.download()"
   ]
  },
  {
   "cell_type": "code",
   "execution_count": null,
   "metadata": {},
   "outputs": [],
   "source": []
  },
  {
   "cell_type": "code",
   "execution_count": 126,
   "metadata": {},
   "outputs": [],
   "source": [
    "from nltk.corpus import stopwords\n",
    "stopwords_set = set(stopwords.words('english'))\n",
    "without_sw = [[word for word in text if word not in stopwords_set] for text in spam.Message]\n"
   ]
  },
  {
   "cell_type": "code",
   "execution_count": 127,
   "metadata": {},
   "outputs": [
    {
     "data": {
      "text/plain": [
       "['xxxmobilemovieclub',\n",
       " 'to',\n",
       " 'use',\n",
       " 'your',\n",
       " 'credit',\n",
       " 'click',\n",
       " 'the',\n",
       " 'wap',\n",
       " 'link',\n",
       " 'in',\n",
       " 'the',\n",
       " 'next',\n",
       " 'txt',\n",
       " 'message',\n",
       " 'or',\n",
       " 'click',\n",
       " 'here',\n",
       " 'http',\n",
       " 'wap',\n",
       " 'xxxmobilemovieclub',\n",
       " 'com',\n",
       " 'n',\n",
       " 'qjkgighjjgcbl']"
      ]
     },
     "execution_count": 127,
     "metadata": {},
     "output_type": "execute_result"
    }
   ],
   "source": [
    "from nltk.stem import WordNetLemmatizer\n",
    "wordnet_lemmatizer = WordNetLemmatizer()\n",
    "lemmatized_text = [[wordnet_lemmatizer.lemmatize(word) for word in text] for text in spam.Message]\n",
    "lemmatized_text[15]"
   ]
  },
  {
   "cell_type": "code",
   "execution_count": 11,
   "metadata": {},
   "outputs": [
    {
     "name": "stdout",
     "output_type": "stream",
     "text": [
      "Collecting gensim\n",
      "  Using cached https://files.pythonhosted.org/packages/0b/66/04faeedb98bfa5f241d0399d0102456886179cabac0355475f23a2978847/gensim-3.8.3-cp37-cp37m-win_amd64.whl\n",
      "Requirement already satisfied: six>=1.5.0 in c:\\programdata\\anaconda3\\lib\\site-packages (from gensim) (1.12.0)\n",
      "Collecting smart-open>=1.8.1 (from gensim)\n",
      "Requirement already satisfied: numpy>=1.11.3 in c:\\programdata\\anaconda3\\lib\\site-packages (from gensim) (1.16.5)\n",
      "Requirement already satisfied: scipy>=0.18.1 in c:\\programdata\\anaconda3\\lib\\site-packages (from gensim) (1.3.1)\n",
      "Collecting Cython==0.29.14 (from gensim)\n",
      "  Using cached https://files.pythonhosted.org/packages/1f/be/b14be5c3ad1ff73096b518be1538282f053ec34faaca60a8753d975d7e93/Cython-0.29.14-cp37-cp37m-win_amd64.whl\n",
      "Installing collected packages: smart-open, Cython, gensim\n",
      "  Found existing installation: Cython 0.29.13\n",
      "    Uninstalling Cython-0.29.13:\n",
      "      Successfully uninstalled Cython-0.29.13\n",
      "Successfully installed Cython-0.29.14 gensim-3.8.3 smart-open-4.0.1\n"
     ]
    }
   ],
   "source": [
    "!pip install gensim"
   ]
  },
  {
   "cell_type": "code",
   "execution_count": 85,
   "metadata": {},
   "outputs": [],
   "source": [
    "from sklearn.feature_extraction.text import TfidfVectorizer"
   ]
  },
  {
   "cell_type": "code",
   "execution_count": 128,
   "metadata": {},
   "outputs": [
    {
     "data": {
      "text/plain": [
       "0       0       [go, until, jurong, point, crazy, avai...\n",
       "1       0       [go, until, jurong, point, crazy, avai...\n",
       "2       0       [go, until, jurong, point, crazy, avai...\n",
       "3       0       [go, until, jurong, point, crazy, avai...\n",
       "4       0       [go, until, jurong, point, crazy, avai...\n",
       "                              ...                        \n",
       "5567    0       [go, until, jurong, point, crazy, avai...\n",
       "5568    0       [go, until, jurong, point, crazy, avai...\n",
       "5569    0       [go, until, jurong, point, crazy, avai...\n",
       "5570    0       [go, until, jurong, point, crazy, avai...\n",
       "5571    0       [go, until, jurong, point, crazy, avai...\n",
       "Name: Message, Length: 5572, dtype: object"
      ]
     },
     "execution_count": 128,
     "metadata": {},
     "output_type": "execute_result"
    }
   ],
   "source": [
    "spam.Message = str(spam.Message)\n",
    "spam.Message"
   ]
  },
  {
   "cell_type": "code",
   "execution_count": 129,
   "metadata": {},
   "outputs": [],
   "source": [
    "tfidf = TfidfVectorizer()\n",
    "tfidf_matrix = tfidf.fit_transform(spam.Message) \n",
    "names = tfidf.get_feature_names() \n",
    "tfidf_matrix_ = pd.DataFrame(tfidf_matrix.toarray(), columns=names)"
   ]
  },
  {
   "cell_type": "code",
   "execution_count": 130,
   "metadata": {},
   "outputs": [
    {
     "data": {
      "text/html": [
       "<div>\n",
       "<style scoped>\n",
       "    .dataframe tbody tr th:only-of-type {\n",
       "        vertical-align: middle;\n",
       "    }\n",
       "\n",
       "    .dataframe tbody tr th {\n",
       "        vertical-align: top;\n",
       "    }\n",
       "\n",
       "    .dataframe thead th {\n",
       "        text-align: right;\n",
       "    }\n",
       "</style>\n",
       "<table border=\"1\" class=\"dataframe\">\n",
       "  <thead>\n",
       "    <tr style=\"text-align: right;\">\n",
       "      <th></th>\n",
       "      <th>2nd</th>\n",
       "      <th>5567</th>\n",
       "      <th>5568</th>\n",
       "      <th>5569</th>\n",
       "      <th>5570</th>\n",
       "      <th>5571</th>\n",
       "      <th>5572</th>\n",
       "      <th>acted</th>\n",
       "      <th>already</th>\n",
       "      <th>any</th>\n",
       "      <th>...</th>\n",
       "      <th>tried</th>\n",
       "      <th>true</th>\n",
       "      <th>until</th>\n",
       "      <th>usf</th>\n",
       "      <th>was</th>\n",
       "      <th>we</th>\n",
       "      <th>wif</th>\n",
       "      <th>will</th>\n",
       "      <th>win</th>\n",
       "      <th>wkly</th>\n",
       "    </tr>\n",
       "  </thead>\n",
       "  <tbody>\n",
       "    <tr>\n",
       "      <td>0</td>\n",
       "      <td>0.098533</td>\n",
       "      <td>0.098533</td>\n",
       "      <td>0.098533</td>\n",
       "      <td>0.098533</td>\n",
       "      <td>0.098533</td>\n",
       "      <td>0.098533</td>\n",
       "      <td>0.098533</td>\n",
       "      <td>0.098533</td>\n",
       "      <td>0.098533</td>\n",
       "      <td>0.098533</td>\n",
       "      <td>...</td>\n",
       "      <td>0.098533</td>\n",
       "      <td>0.098533</td>\n",
       "      <td>0.098533</td>\n",
       "      <td>0.098533</td>\n",
       "      <td>0.098533</td>\n",
       "      <td>0.098533</td>\n",
       "      <td>0.098533</td>\n",
       "      <td>0.098533</td>\n",
       "      <td>0.098533</td>\n",
       "      <td>0.098533</td>\n",
       "    </tr>\n",
       "    <tr>\n",
       "      <td>1</td>\n",
       "      <td>0.098533</td>\n",
       "      <td>0.098533</td>\n",
       "      <td>0.098533</td>\n",
       "      <td>0.098533</td>\n",
       "      <td>0.098533</td>\n",
       "      <td>0.098533</td>\n",
       "      <td>0.098533</td>\n",
       "      <td>0.098533</td>\n",
       "      <td>0.098533</td>\n",
       "      <td>0.098533</td>\n",
       "      <td>...</td>\n",
       "      <td>0.098533</td>\n",
       "      <td>0.098533</td>\n",
       "      <td>0.098533</td>\n",
       "      <td>0.098533</td>\n",
       "      <td>0.098533</td>\n",
       "      <td>0.098533</td>\n",
       "      <td>0.098533</td>\n",
       "      <td>0.098533</td>\n",
       "      <td>0.098533</td>\n",
       "      <td>0.098533</td>\n",
       "    </tr>\n",
       "    <tr>\n",
       "      <td>2</td>\n",
       "      <td>0.098533</td>\n",
       "      <td>0.098533</td>\n",
       "      <td>0.098533</td>\n",
       "      <td>0.098533</td>\n",
       "      <td>0.098533</td>\n",
       "      <td>0.098533</td>\n",
       "      <td>0.098533</td>\n",
       "      <td>0.098533</td>\n",
       "      <td>0.098533</td>\n",
       "      <td>0.098533</td>\n",
       "      <td>...</td>\n",
       "      <td>0.098533</td>\n",
       "      <td>0.098533</td>\n",
       "      <td>0.098533</td>\n",
       "      <td>0.098533</td>\n",
       "      <td>0.098533</td>\n",
       "      <td>0.098533</td>\n",
       "      <td>0.098533</td>\n",
       "      <td>0.098533</td>\n",
       "      <td>0.098533</td>\n",
       "      <td>0.098533</td>\n",
       "    </tr>\n",
       "    <tr>\n",
       "      <td>3</td>\n",
       "      <td>0.098533</td>\n",
       "      <td>0.098533</td>\n",
       "      <td>0.098533</td>\n",
       "      <td>0.098533</td>\n",
       "      <td>0.098533</td>\n",
       "      <td>0.098533</td>\n",
       "      <td>0.098533</td>\n",
       "      <td>0.098533</td>\n",
       "      <td>0.098533</td>\n",
       "      <td>0.098533</td>\n",
       "      <td>...</td>\n",
       "      <td>0.098533</td>\n",
       "      <td>0.098533</td>\n",
       "      <td>0.098533</td>\n",
       "      <td>0.098533</td>\n",
       "      <td>0.098533</td>\n",
       "      <td>0.098533</td>\n",
       "      <td>0.098533</td>\n",
       "      <td>0.098533</td>\n",
       "      <td>0.098533</td>\n",
       "      <td>0.098533</td>\n",
       "    </tr>\n",
       "    <tr>\n",
       "      <td>4</td>\n",
       "      <td>0.098533</td>\n",
       "      <td>0.098533</td>\n",
       "      <td>0.098533</td>\n",
       "      <td>0.098533</td>\n",
       "      <td>0.098533</td>\n",
       "      <td>0.098533</td>\n",
       "      <td>0.098533</td>\n",
       "      <td>0.098533</td>\n",
       "      <td>0.098533</td>\n",
       "      <td>0.098533</td>\n",
       "      <td>...</td>\n",
       "      <td>0.098533</td>\n",
       "      <td>0.098533</td>\n",
       "      <td>0.098533</td>\n",
       "      <td>0.098533</td>\n",
       "      <td>0.098533</td>\n",
       "      <td>0.098533</td>\n",
       "      <td>0.098533</td>\n",
       "      <td>0.098533</td>\n",
       "      <td>0.098533</td>\n",
       "      <td>0.098533</td>\n",
       "    </tr>\n",
       "    <tr>\n",
       "      <td>...</td>\n",
       "      <td>...</td>\n",
       "      <td>...</td>\n",
       "      <td>...</td>\n",
       "      <td>...</td>\n",
       "      <td>...</td>\n",
       "      <td>...</td>\n",
       "      <td>...</td>\n",
       "      <td>...</td>\n",
       "      <td>...</td>\n",
       "      <td>...</td>\n",
       "      <td>...</td>\n",
       "      <td>...</td>\n",
       "      <td>...</td>\n",
       "      <td>...</td>\n",
       "      <td>...</td>\n",
       "      <td>...</td>\n",
       "      <td>...</td>\n",
       "      <td>...</td>\n",
       "      <td>...</td>\n",
       "      <td>...</td>\n",
       "      <td>...</td>\n",
       "    </tr>\n",
       "    <tr>\n",
       "      <td>5567</td>\n",
       "      <td>0.098533</td>\n",
       "      <td>0.098533</td>\n",
       "      <td>0.098533</td>\n",
       "      <td>0.098533</td>\n",
       "      <td>0.098533</td>\n",
       "      <td>0.098533</td>\n",
       "      <td>0.098533</td>\n",
       "      <td>0.098533</td>\n",
       "      <td>0.098533</td>\n",
       "      <td>0.098533</td>\n",
       "      <td>...</td>\n",
       "      <td>0.098533</td>\n",
       "      <td>0.098533</td>\n",
       "      <td>0.098533</td>\n",
       "      <td>0.098533</td>\n",
       "      <td>0.098533</td>\n",
       "      <td>0.098533</td>\n",
       "      <td>0.098533</td>\n",
       "      <td>0.098533</td>\n",
       "      <td>0.098533</td>\n",
       "      <td>0.098533</td>\n",
       "    </tr>\n",
       "    <tr>\n",
       "      <td>5568</td>\n",
       "      <td>0.098533</td>\n",
       "      <td>0.098533</td>\n",
       "      <td>0.098533</td>\n",
       "      <td>0.098533</td>\n",
       "      <td>0.098533</td>\n",
       "      <td>0.098533</td>\n",
       "      <td>0.098533</td>\n",
       "      <td>0.098533</td>\n",
       "      <td>0.098533</td>\n",
       "      <td>0.098533</td>\n",
       "      <td>...</td>\n",
       "      <td>0.098533</td>\n",
       "      <td>0.098533</td>\n",
       "      <td>0.098533</td>\n",
       "      <td>0.098533</td>\n",
       "      <td>0.098533</td>\n",
       "      <td>0.098533</td>\n",
       "      <td>0.098533</td>\n",
       "      <td>0.098533</td>\n",
       "      <td>0.098533</td>\n",
       "      <td>0.098533</td>\n",
       "    </tr>\n",
       "    <tr>\n",
       "      <td>5569</td>\n",
       "      <td>0.098533</td>\n",
       "      <td>0.098533</td>\n",
       "      <td>0.098533</td>\n",
       "      <td>0.098533</td>\n",
       "      <td>0.098533</td>\n",
       "      <td>0.098533</td>\n",
       "      <td>0.098533</td>\n",
       "      <td>0.098533</td>\n",
       "      <td>0.098533</td>\n",
       "      <td>0.098533</td>\n",
       "      <td>...</td>\n",
       "      <td>0.098533</td>\n",
       "      <td>0.098533</td>\n",
       "      <td>0.098533</td>\n",
       "      <td>0.098533</td>\n",
       "      <td>0.098533</td>\n",
       "      <td>0.098533</td>\n",
       "      <td>0.098533</td>\n",
       "      <td>0.098533</td>\n",
       "      <td>0.098533</td>\n",
       "      <td>0.098533</td>\n",
       "    </tr>\n",
       "    <tr>\n",
       "      <td>5570</td>\n",
       "      <td>0.098533</td>\n",
       "      <td>0.098533</td>\n",
       "      <td>0.098533</td>\n",
       "      <td>0.098533</td>\n",
       "      <td>0.098533</td>\n",
       "      <td>0.098533</td>\n",
       "      <td>0.098533</td>\n",
       "      <td>0.098533</td>\n",
       "      <td>0.098533</td>\n",
       "      <td>0.098533</td>\n",
       "      <td>...</td>\n",
       "      <td>0.098533</td>\n",
       "      <td>0.098533</td>\n",
       "      <td>0.098533</td>\n",
       "      <td>0.098533</td>\n",
       "      <td>0.098533</td>\n",
       "      <td>0.098533</td>\n",
       "      <td>0.098533</td>\n",
       "      <td>0.098533</td>\n",
       "      <td>0.098533</td>\n",
       "      <td>0.098533</td>\n",
       "    </tr>\n",
       "    <tr>\n",
       "      <td>5571</td>\n",
       "      <td>0.098533</td>\n",
       "      <td>0.098533</td>\n",
       "      <td>0.098533</td>\n",
       "      <td>0.098533</td>\n",
       "      <td>0.098533</td>\n",
       "      <td>0.098533</td>\n",
       "      <td>0.098533</td>\n",
       "      <td>0.098533</td>\n",
       "      <td>0.098533</td>\n",
       "      <td>0.098533</td>\n",
       "      <td>...</td>\n",
       "      <td>0.098533</td>\n",
       "      <td>0.098533</td>\n",
       "      <td>0.098533</td>\n",
       "      <td>0.098533</td>\n",
       "      <td>0.098533</td>\n",
       "      <td>0.098533</td>\n",
       "      <td>0.098533</td>\n",
       "      <td>0.098533</td>\n",
       "      <td>0.098533</td>\n",
       "      <td>0.098533</td>\n",
       "    </tr>\n",
       "  </tbody>\n",
       "</table>\n",
       "<p>5572 rows × 70 columns</p>\n",
       "</div>"
      ],
      "text/plain": [
       "           2nd      5567      5568      5569      5570      5571      5572  \\\n",
       "0     0.098533  0.098533  0.098533  0.098533  0.098533  0.098533  0.098533   \n",
       "1     0.098533  0.098533  0.098533  0.098533  0.098533  0.098533  0.098533   \n",
       "2     0.098533  0.098533  0.098533  0.098533  0.098533  0.098533  0.098533   \n",
       "3     0.098533  0.098533  0.098533  0.098533  0.098533  0.098533  0.098533   \n",
       "4     0.098533  0.098533  0.098533  0.098533  0.098533  0.098533  0.098533   \n",
       "...        ...       ...       ...       ...       ...       ...       ...   \n",
       "5567  0.098533  0.098533  0.098533  0.098533  0.098533  0.098533  0.098533   \n",
       "5568  0.098533  0.098533  0.098533  0.098533  0.098533  0.098533  0.098533   \n",
       "5569  0.098533  0.098533  0.098533  0.098533  0.098533  0.098533  0.098533   \n",
       "5570  0.098533  0.098533  0.098533  0.098533  0.098533  0.098533  0.098533   \n",
       "5571  0.098533  0.098533  0.098533  0.098533  0.098533  0.098533  0.098533   \n",
       "\n",
       "         acted   already       any  ...     tried      true     until  \\\n",
       "0     0.098533  0.098533  0.098533  ...  0.098533  0.098533  0.098533   \n",
       "1     0.098533  0.098533  0.098533  ...  0.098533  0.098533  0.098533   \n",
       "2     0.098533  0.098533  0.098533  ...  0.098533  0.098533  0.098533   \n",
       "3     0.098533  0.098533  0.098533  ...  0.098533  0.098533  0.098533   \n",
       "4     0.098533  0.098533  0.098533  ...  0.098533  0.098533  0.098533   \n",
       "...        ...       ...       ...  ...       ...       ...       ...   \n",
       "5567  0.098533  0.098533  0.098533  ...  0.098533  0.098533  0.098533   \n",
       "5568  0.098533  0.098533  0.098533  ...  0.098533  0.098533  0.098533   \n",
       "5569  0.098533  0.098533  0.098533  ...  0.098533  0.098533  0.098533   \n",
       "5570  0.098533  0.098533  0.098533  ...  0.098533  0.098533  0.098533   \n",
       "5571  0.098533  0.098533  0.098533  ...  0.098533  0.098533  0.098533   \n",
       "\n",
       "           usf       was        we       wif      will       win      wkly  \n",
       "0     0.098533  0.098533  0.098533  0.098533  0.098533  0.098533  0.098533  \n",
       "1     0.098533  0.098533  0.098533  0.098533  0.098533  0.098533  0.098533  \n",
       "2     0.098533  0.098533  0.098533  0.098533  0.098533  0.098533  0.098533  \n",
       "3     0.098533  0.098533  0.098533  0.098533  0.098533  0.098533  0.098533  \n",
       "4     0.098533  0.098533  0.098533  0.098533  0.098533  0.098533  0.098533  \n",
       "...        ...       ...       ...       ...       ...       ...       ...  \n",
       "5567  0.098533  0.098533  0.098533  0.098533  0.098533  0.098533  0.098533  \n",
       "5568  0.098533  0.098533  0.098533  0.098533  0.098533  0.098533  0.098533  \n",
       "5569  0.098533  0.098533  0.098533  0.098533  0.098533  0.098533  0.098533  \n",
       "5570  0.098533  0.098533  0.098533  0.098533  0.098533  0.098533  0.098533  \n",
       "5571  0.098533  0.098533  0.098533  0.098533  0.098533  0.098533  0.098533  \n",
       "\n",
       "[5572 rows x 70 columns]"
      ]
     },
     "execution_count": 130,
     "metadata": {},
     "output_type": "execute_result"
    }
   ],
   "source": [
    "tfidf_matrix_"
   ]
  },
  {
   "cell_type": "code",
   "execution_count": 131,
   "metadata": {},
   "outputs": [],
   "source": [
    "X, y = tfidf_matrix, spam.Category\n"
   ]
  },
  {
   "cell_type": "code",
   "execution_count": 132,
   "metadata": {},
   "outputs": [],
   "source": [
    "from sklearn.model_selection import train_test_split\n",
    "\n",
    "\n",
    "X_train, X_test, y_train, y_test = train_test_split(X, y,  test_size=0.3, random_state=42)"
   ]
  },
  {
   "cell_type": "code",
   "execution_count": 133,
   "metadata": {},
   "outputs": [],
   "source": [
    "from sklearn.linear_model import LogisticRegression\n",
    "lr = LogisticRegression()"
   ]
  },
  {
   "cell_type": "code",
   "execution_count": 134,
   "metadata": {},
   "outputs": [
    {
     "name": "stderr",
     "output_type": "stream",
     "text": [
      "C:\\ProgramData\\Anaconda3\\lib\\site-packages\\sklearn\\linear_model\\logistic.py:432: FutureWarning: Default solver will be changed to 'lbfgs' in 0.22. Specify a solver to silence this warning.\n",
      "  FutureWarning)\n"
     ]
    },
    {
     "data": {
      "text/plain": [
       "LogisticRegression(C=1.0, class_weight=None, dual=False, fit_intercept=True,\n",
       "                   intercept_scaling=1, l1_ratio=None, max_iter=100,\n",
       "                   multi_class='warn', n_jobs=None, penalty='l2',\n",
       "                   random_state=None, solver='warn', tol=0.0001, verbose=0,\n",
       "                   warm_start=False)"
      ]
     },
     "execution_count": 134,
     "metadata": {},
     "output_type": "execute_result"
    }
   ],
   "source": [
    "lr.fit(X_train, y_train)"
   ]
  },
  {
   "cell_type": "code",
   "execution_count": 135,
   "metadata": {},
   "outputs": [
    {
     "data": {
      "text/plain": [
       "array(['ham', 'ham', 'ham', ..., 'ham', 'ham', 'ham'], dtype=object)"
      ]
     },
     "execution_count": 135,
     "metadata": {},
     "output_type": "execute_result"
    }
   ],
   "source": [
    "prediction = lr.predict(X_test)\n",
    "prediction"
   ]
  },
  {
   "cell_type": "code",
   "execution_count": 136,
   "metadata": {},
   "outputs": [
    {
     "data": {
      "text/plain": [
       "0.8660287081339713"
      ]
     },
     "execution_count": 136,
     "metadata": {},
     "output_type": "execute_result"
    }
   ],
   "source": [
    "score = lr.score(X_test, y_test)\n",
    "score"
   ]
  },
  {
   "cell_type": "code",
   "execution_count": 137,
   "metadata": {},
   "outputs": [],
   "source": [
    "import matplotlib.pyplot as plt\n",
    "import seaborn as sns\n",
    "from sklearn import metrics"
   ]
  },
  {
   "cell_type": "code",
   "execution_count": 138,
   "metadata": {},
   "outputs": [
    {
     "name": "stdout",
     "output_type": "stream",
     "text": [
      "[[1448    0]\n",
      " [ 224    0]]\n"
     ]
    }
   ],
   "source": [
    "cm = metrics.confusion_matrix(y_test, prediction)\n",
    "print(cm)"
   ]
  },
  {
   "cell_type": "code",
   "execution_count": 139,
   "metadata": {},
   "outputs": [
    {
     "data": {
      "text/plain": [
       "array([[-0.09178864, -0.09178864, -0.09178864, -0.09178864, -0.09178864,\n",
       "        -0.09178864, -0.09178864, -0.09178864, -0.09178864, -0.09178864,\n",
       "        -0.09178864, -0.09178864, -0.09178864, -0.09178864, -0.09178864,\n",
       "        -0.09178864, -0.09178864, -0.09178864, -0.09178864, -0.09178864,\n",
       "        -0.09178864, -0.09178864, -0.09178864, -0.09178864, -0.09178864,\n",
       "        -0.09178864, -0.09178864, -0.09178864, -0.09178864, -0.09178864,\n",
       "        -0.18357727, -0.09178864, -0.09178864, -0.18357727, -0.09178864,\n",
       "        -0.18357727, -0.09178864, -0.09178864, -0.09178864, -0.09178864,\n",
       "        -0.09178864, -0.09178864, -0.09178864, -0.18357727, -0.09178864,\n",
       "        -0.09178864, -0.09178864, -0.09178864, -0.09178864, -0.09178864,\n",
       "        -0.09178864, -0.09178864, -0.18357727, -0.09178864, -0.09178864,\n",
       "        -0.18357727, -0.09178864, -0.09178864, -0.09178864, -0.36715454,\n",
       "        -0.09178864, -0.09178864, -0.09178864, -0.09178864, -0.09178864,\n",
       "        -0.09178864, -0.09178864, -0.09178864, -0.09178864, -0.09178864]])"
      ]
     },
     "execution_count": 139,
     "metadata": {},
     "output_type": "execute_result"
    }
   ],
   "source": [
    "lr.coef_\n"
   ]
  },
  {
   "cell_type": "code",
   "execution_count": 140,
   "metadata": {},
   "outputs": [
    {
     "data": {
      "text/plain": [
       "Text(0.5, 1, 'Accurasy Score: 0.8660287081339713')"
      ]
     },
     "execution_count": 140,
     "metadata": {},
     "output_type": "execute_result"
    },
    {
     "data": {
      "image/png": "[encoded data removed]",
      "text/plain": [
       "<Figure size 648x648 with 2 Axes>"
      ]
     },
     "metadata": {
      "needs_background": "light"
     },
     "output_type": "display_data"
    }
   ],
   "source": [
    "plt.figure(figsize = (9,9))\n",
    "sns.heatmap(cm, annot = True, fmt = '.3f', linewidths = .5, square = True, cmap = 'Blues_r')\n",
    "plt.ylabel('Actual label')\n",
    "plt.xlabel('Predicted label')\n",
    "all_sample_title = 'Accurasy Score: {0}'.format(score)\n",
    "plt.title(all_sample_title, size = 1)"
   ]
  },
  {
   "cell_type": "code",
   "execution_count": 141,
   "metadata": {},
   "outputs": [
    {
     "data": {
      "text/plain": [
       "array(['ham', 'ham', 'ham', ..., 'ham', 'ham', 'ham'], dtype=object)"
      ]
     },
     "execution_count": 141,
     "metadata": {},
     "output_type": "execute_result"
    }
   ],
   "source": [
    "lr.predict(X_test)"
   ]
  },
  {
   "cell_type": "code",
   "execution_count": 142,
   "metadata": {},
   "outputs": [
    {
     "data": {
      "text/html": [
       "<div>\n",
       "<style scoped>\n",
       "    .dataframe tbody tr th:only-of-type {\n",
       "        vertical-align: middle;\n",
       "    }\n",
       "\n",
       "    .dataframe tbody tr th {\n",
       "        vertical-align: top;\n",
       "    }\n",
       "\n",
       "    .dataframe thead th {\n",
       "        text-align: right;\n",
       "    }\n",
       "</style>\n",
       "<table border=\"1\" class=\"dataframe\">\n",
       "  <thead>\n",
       "    <tr style=\"text-align: right;\">\n",
       "      <th></th>\n",
       "      <th>Category</th>\n",
       "      <th>Unnamed 0</th>\n",
       "    </tr>\n",
       "  </thead>\n",
       "  <tbody>\n",
       "    <tr>\n",
       "      <td>3245</td>\n",
       "      <td>ham</td>\n",
       "      <td>NaN</td>\n",
       "    </tr>\n",
       "    <tr>\n",
       "      <td>944</td>\n",
       "      <td>ham</td>\n",
       "      <td>ham</td>\n",
       "    </tr>\n",
       "    <tr>\n",
       "      <td>1044</td>\n",
       "      <td>ham</td>\n",
       "      <td>ham</td>\n",
       "    </tr>\n",
       "    <tr>\n",
       "      <td>2484</td>\n",
       "      <td>ham</td>\n",
       "      <td>NaN</td>\n",
       "    </tr>\n",
       "    <tr>\n",
       "      <td>812</td>\n",
       "      <td>ham</td>\n",
       "      <td>ham</td>\n",
       "    </tr>\n",
       "    <tr>\n",
       "      <td>...</td>\n",
       "      <td>...</td>\n",
       "      <td>...</td>\n",
       "    </tr>\n",
       "    <tr>\n",
       "      <td>2505</td>\n",
       "      <td>ham</td>\n",
       "      <td>NaN</td>\n",
       "    </tr>\n",
       "    <tr>\n",
       "      <td>2525</td>\n",
       "      <td>spam</td>\n",
       "      <td>NaN</td>\n",
       "    </tr>\n",
       "    <tr>\n",
       "      <td>4975</td>\n",
       "      <td>ham</td>\n",
       "      <td>NaN</td>\n",
       "    </tr>\n",
       "    <tr>\n",
       "      <td>650</td>\n",
       "      <td>spam</td>\n",
       "      <td>ham</td>\n",
       "    </tr>\n",
       "    <tr>\n",
       "      <td>4463</td>\n",
       "      <td>ham</td>\n",
       "      <td>NaN</td>\n",
       "    </tr>\n",
       "  </tbody>\n",
       "</table>\n",
       "<p>1672 rows × 2 columns</p>\n",
       "</div>"
      ],
      "text/plain": [
       "     Category Unnamed 0\n",
       "3245      ham       NaN\n",
       "944       ham       ham\n",
       "1044      ham       ham\n",
       "2484      ham       NaN\n",
       "812       ham       ham\n",
       "...       ...       ...\n",
       "2505      ham       NaN\n",
       "2525     spam       NaN\n",
       "4975      ham       NaN\n",
       "650      spam       ham\n",
       "4463      ham       NaN\n",
       "\n",
       "[1672 rows x 2 columns]"
      ]
     },
     "execution_count": 142,
     "metadata": {},
     "output_type": "execute_result"
    }
   ],
   "source": [
    "result = pd.DataFrame([y_test, lr.predict(X_test)]).T\n",
    "result"
   ]
  },
  {
   "cell_type": "code",
   "execution_count": 143,
   "metadata": {},
   "outputs": [
    {
     "data": {
      "text/plain": [
       "Category        0\n",
       "Unnamed 0    1123\n",
       "dtype: int64"
      ]
     },
     "execution_count": 143,
     "metadata": {},
     "output_type": "execute_result"
    }
   ],
   "source": [
    "result.isna().sum()"
   ]
  },
  {
   "cell_type": "code",
   "execution_count": 64,
   "metadata": {},
   "outputs": [
    {
     "data": {
      "text/html": [
       "<div>\n",
       "<style scoped>\n",
       "    .dataframe tbody tr th:only-of-type {\n",
       "        vertical-align: middle;\n",
       "    }\n",
       "\n",
       "    .dataframe tbody tr th {\n",
       "        vertical-align: top;\n",
       "    }\n",
       "\n",
       "    .dataframe thead th {\n",
       "        text-align: right;\n",
       "    }\n",
       "</style>\n",
       "<table border=\"1\" class=\"dataframe\">\n",
       "  <thead>\n",
       "    <tr style=\"text-align: right;\">\n",
       "      <th></th>\n",
       "      <th>Category</th>\n",
       "      <th>Unnamed 0</th>\n",
       "    </tr>\n",
       "  </thead>\n",
       "  <tbody>\n",
       "    <tr>\n",
       "      <td>708</td>\n",
       "      <td>ham</td>\n",
       "      <td>ham</td>\n",
       "    </tr>\n",
       "    <tr>\n",
       "      <td>4338</td>\n",
       "      <td>ham</td>\n",
       "      <td>NaN</td>\n",
       "    </tr>\n",
       "    <tr>\n",
       "      <td>5029</td>\n",
       "      <td>ham</td>\n",
       "      <td>NaN</td>\n",
       "    </tr>\n",
       "    <tr>\n",
       "      <td>4921</td>\n",
       "      <td>ham</td>\n",
       "      <td>NaN</td>\n",
       "    </tr>\n",
       "    <tr>\n",
       "      <td>2592</td>\n",
       "      <td>ham</td>\n",
       "      <td>ham</td>\n",
       "    </tr>\n",
       "    <tr>\n",
       "      <td>...</td>\n",
       "      <td>...</td>\n",
       "      <td>...</td>\n",
       "    </tr>\n",
       "    <tr>\n",
       "      <td>3772</td>\n",
       "      <td>ham</td>\n",
       "      <td>ham</td>\n",
       "    </tr>\n",
       "    <tr>\n",
       "      <td>5191</td>\n",
       "      <td>ham</td>\n",
       "      <td>NaN</td>\n",
       "    </tr>\n",
       "    <tr>\n",
       "      <td>5226</td>\n",
       "      <td>ham</td>\n",
       "      <td>NaN</td>\n",
       "    </tr>\n",
       "    <tr>\n",
       "      <td>5390</td>\n",
       "      <td>ham</td>\n",
       "      <td>NaN</td>\n",
       "    </tr>\n",
       "    <tr>\n",
       "      <td>860</td>\n",
       "      <td>ham</td>\n",
       "      <td>spam</td>\n",
       "    </tr>\n",
       "  </tbody>\n",
       "</table>\n",
       "<p>3900 rows × 2 columns</p>\n",
       "</div>"
      ],
      "text/plain": [
       "     Category Unnamed 0\n",
       "708       ham       ham\n",
       "4338      ham       NaN\n",
       "5029      ham       NaN\n",
       "4921      ham       NaN\n",
       "2592      ham       ham\n",
       "...       ...       ...\n",
       "3772      ham       ham\n",
       "5191      ham       NaN\n",
       "5226      ham       NaN\n",
       "5390      ham       NaN\n",
       "860       ham      spam\n",
       "\n",
       "[3900 rows x 2 columns]"
      ]
     },
     "execution_count": 64,
     "metadata": {},
     "output_type": "execute_result"
    }
   ],
   "source": [
    "res = pd.DataFrame([y_train, lr.predict(X_train)]).T\n",
    "res"
   ]
  },
  {
   "cell_type": "code",
   "execution_count": 65,
   "metadata": {},
   "outputs": [
    {
     "data": {
      "text/plain": [
       "Category        0\n",
       "Unnamed 0    1191\n",
       "dtype: int64"
      ]
     },
     "execution_count": 65,
     "metadata": {},
     "output_type": "execute_result"
    }
   ],
   "source": [
    "res.isna().sum()"
   ]
  },
  {
   "cell_type": "code",
   "execution_count": null,
   "metadata": {},
   "outputs": [],
   "source": []
  },
  {
   "cell_type": "code",
   "execution_count": null,
   "metadata": {},
   "outputs": [],
   "source": []
  }
 ],
 "metadata": {
  "kernelspec": {
   "display_name": "Python 3",
   "language": "python",
   "name": "python3"
  },
  "language_info": {
   "codemirror_mode": {
    "name": "ipython",
    "version": 3
   },
   "file_extension": ".py",
   "mimetype": "text/x-python",
   "name": "python",
   "nbconvert_exporter": "python",
   "pygments_lexer": "ipython3",
   "version": "3.7.4"
  }
 },
 "nbformat": 4,
 "nbformat_minor": 2
}
